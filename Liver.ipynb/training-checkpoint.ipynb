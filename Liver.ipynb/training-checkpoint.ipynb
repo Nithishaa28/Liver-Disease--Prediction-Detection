{
 "cells": [
  {
   "cell_type": "code",
   "execution_count": 1,
   "metadata": {},
   "outputs": [],
   "source": [
    "import pandas as pd\n",
    "import numpy as np\n",
    "from sklearn.impute import SimpleImputer\n",
    "from sklearn.feature_selection import SelectKBest, f_classif\n",
    "from sklearn.model_selection import train_test_split\n",
    "from sklearn.linear_model import LogisticRegression\n",
    "from sklearn.metrics import accuracy_score, classification_report\n",
    "import joblib"
   ]
  },
  {
   "cell_type": "code",
   "execution_count": 2,
   "metadata": {},
   "outputs": [],
   "source": [
    "# Load the dataset\n",
    "full_new_df = pd.read_excel('dataset.xlsx', sheet_name='Full_new')\n",
    "\n",
    "non_numeric_columns = full_new_df.columns[(full_new_df.dtypes == 'object')]\n",
    "for col in non_numeric_columns:\n",
    "    full_new_df[col] = pd.to_numeric(full_new_df[col], errors='coerce')"
   ]
  },
  {
   "cell_type": "code",
   "execution_count": 3,
   "metadata": {},
   "outputs": [],
   "source": [
    "imputer = SimpleImputer(missing_values=np.nan, strategy='mean')\n",
    "full_new_df_imputed = imputer.fit_transform(full_new_df.copy())\n",
    "full_new_df_imputed = pd.DataFrame(full_new_df_imputed, columns=full_new_df.columns)\n",
    "\n",
    "X = full_new_df_imputed.drop(['Sl. No', 'Patient File No.', 'PCOS (Y/N)'], axis=1)\n",
    "y = full_new_df_imputed['PCOS (Y/N)'].astype(int)"
   ]
  },
  {
   "cell_type": "code",
   "execution_count": 4,
   "metadata": {},
   "outputs": [
    {
     "name": "stderr",
     "output_type": "stream",
     "text": [
      "C:\\Users\\Mrida\\anaconda3\\envs\\shan\\lib\\site-packages\\sklearn\\feature_selection\\_univariate_selection.py:115: UserWarning: Features [41] are constant.\n",
      "  UserWarning)\n",
      "C:\\Users\\Mrida\\anaconda3\\envs\\shan\\lib\\site-packages\\sklearn\\feature_selection\\_univariate_selection.py:116: RuntimeWarning: invalid value encountered in true_divide\n",
      "  f = msb / msw\n"
     ]
    }
   ],
   "source": [
    "bestfeatures = SelectKBest(score_func=f_classif, k=10)\n",
    "fit = bestfeatures.fit(X, y)\n",
    "df_scores = pd.DataFrame(fit.scores_)\n",
    "df_columns = pd.DataFrame(X.columns)\n",
    "featureScores = pd.concat([df_columns, df_scores], axis=1)\n",
    "featureScores.columns = ['Feature', 'Score']\n",
    "best_features = featureScores.nlargest(10, 'Score')['Feature'].values\n",
    "X_selected = X[best_features]"
   ]
  },
  {
   "cell_type": "code",
   "execution_count": 5,
   "metadata": {},
   "outputs": [
    {
     "data": {
      "text/plain": [
       "LogisticRegression(max_iter=1000)"
      ]
     },
     "execution_count": 5,
     "metadata": {},
     "output_type": "execute_result"
    }
   ],
   "source": [
    "X_train, X_test, y_train, y_test = train_test_split(X_selected, y, test_size=0.2, random_state=42)\n",
    "\n",
    "logreg = LogisticRegression(max_iter=1000)\n",
    "logreg.fit(X_train, y_train)"
   ]
  },
  {
   "cell_type": "code",
   "execution_count": 6,
   "metadata": {},
   "outputs": [
    {
     "name": "stdout",
     "output_type": "stream",
     "text": [
      "Trained model saved as model.joblib\n"
     ]
    }
   ],
   "source": [
    "model_filename = 'model.joblib'\n",
    "joblib.dump(logreg, model_filename)\n",
    "print(f\"Trained model saved as {model_filename}\")"
   ]
  },
  {
   "cell_type": "code",
   "execution_count": 7,
   "metadata": {},
   "outputs": [],
   "source": [
    "y_pred = logreg.predict(X_test)\n",
    "accuracy = accuracy_score(y_test, y_pred)\n",
    "report = classification_report(y_test, y_pred, target_names=['Non-PCOS', 'PCOS'])"
   ]
  },
  {
   "cell_type": "code",
   "execution_count": 8,
   "metadata": {},
   "outputs": [
    {
     "name": "stdout",
     "output_type": "stream",
     "text": [
      "Accuracy of the Logistic Regression model: 0.89\n",
      "Classification Report:\n",
      "              precision    recall  f1-score   support\n",
      "\n",
      "    Non-PCOS       0.91      0.94      0.92        77\n",
      "        PCOS       0.83      0.78      0.81        32\n",
      "\n",
      "    accuracy                           0.89       109\n",
      "   macro avg       0.87      0.86      0.86       109\n",
      "weighted avg       0.89      0.89      0.89       109\n",
      "\n"
     ]
    }
   ],
   "source": [
    "print(f'Accuracy of the Logistic Regression model: {accuracy:.2f}')\n",
    "print('Classification Report:')\n",
    "print(report)"
   ]
  },
  {
   "cell_type": "code",
   "execution_count": 9,
   "metadata": {},
   "outputs": [
    {
     "name": "stdout",
     "output_type": "stream",
     "text": [
      "     Follicle No. (R)  Follicle No. (L)  Skin darkening (Y/N)  \\\n",
      "229               5.0               6.0                   1.0   \n",
      "73                4.0               3.0                   0.0   \n",
      "352               5.0               4.0                   1.0   \n",
      "86               10.0               8.0                   0.0   \n",
      "470              10.0               8.0                   1.0   \n",
      "\n",
      "     hair growth(Y/N)  Weight gain(Y/N)  Cycle(R/I)  Fast food (Y/N)  \\\n",
      "229               0.0               1.0         2.0              1.0   \n",
      "73                0.0               1.0         2.0              0.0   \n",
      "352               1.0               0.0         2.0              1.0   \n",
      "86                0.0               0.0         4.0              0.0   \n",
      "470               1.0               0.0         4.0              1.0   \n",
      "\n",
      "     Pimples(Y/N)  AMH(ng/mL)  Weight (Kg)  Predicted PCOS (Y/N)  \n",
      "229           0.0       12.00         74.3                     0  \n",
      "73            0.0        0.35         70.0                     0  \n",
      "352           0.0        3.65         60.0                     0  \n",
      "86            0.0        3.81         64.0                     0  \n",
      "470           0.0        0.91         52.0                     1  \n"
     ]
    }
   ],
   "source": [
    "X_head = X_test.head()\n",
    "y_head_pred = logreg.predict(X_head)\n",
    "input_output_df = X_head.copy()\n",
    "input_output_df['Predicted PCOS (Y/N)'] = y_head_pred\n",
    "print(input_output_df)"
   ]
  },
  {
   "cell_type": "code",
   "execution_count": 10,
   "metadata": {},
   "outputs": [],
   "source": [
    "selected_features = ['Follicle No. (R)', 'Follicle No. (L)', 'Skin darkening (Y/N)', 'hair growth(Y/N)', 'Weight gain(Y/N)', 'Cycle(R/I)', 'Fast food (Y/N)', 'Pimples(Y/N)', 'AMH(ng/mL)', 'Weight (Kg)']"
   ]
  },
  {
   "cell_type": "code",
   "execution_count": 11,
   "metadata": {},
   "outputs": [],
   "source": [
    "loaded_model = joblib.load(model_filename)"
   ]
  },
  {
   "cell_type": "code",
   "execution_count": 12,
   "metadata": {},
   "outputs": [],
   "source": [
    "def predict_pcos(input_values):\n",
    "    input_df = pd.DataFrame([input_values], columns=selected_features)\n",
    "    prediction = loaded_model.predict(input_df)\n",
    "    return 'PCOS' if prediction[0] == 1 else 'Non-PCOS'"
   ]
  },
  {
   "cell_type": "code",
   "execution_count": 13,
   "metadata": {},
   "outputs": [
    {
     "name": "stdout",
     "output_type": "stream",
     "text": [
      "The prediction for the input is: Non-PCOS\n"
     ]
    }
   ],
   "source": [
    "input_example = [5, 6, 1, 0, 1, 2, 1, 0, 12, 74.3]\n",
    "prediction_example = predict_pcos(input_example)\n",
    "print('The prediction for the input is:', prediction_example)"
   ]
  },
  {
   "cell_type": "code",
   "execution_count": 14,
   "metadata": {},
   "outputs": [
    {
     "name": "stdout",
     "output_type": "stream",
     "text": [
      "The prediction for the input is: PCOS\n"
     ]
    }
   ],
   "source": [
    "input_example = [15, 13, 0, 0, 0, 2, 1, 1, 6.63, 68.8]\n",
    "prediction_example = predict_pcos(input_example)\n",
    "print('The prediction for the input is:', prediction_example)"
   ]
  },
  {
   "cell_type": "code",
   "execution_count": 15,
   "metadata": {},
   "outputs": [
    {
     "name": "stdout",
     "output_type": "stream",
     "text": [
      "0.8073394495412844\n"
     ]
    }
   ],
   "source": [
    "from sklearn.svm import SVC \n",
    "svcmodel=SVC(kernel='rbf', random_state=0,probability=True)\n",
    "svcmodel.fit(X_train, y_train)\n",
    "# predict probabilities\n",
    "svcacc = svcmodel.score(X_test, y_test)\n",
    "print(svcacc )"
   ]
  },
  {
   "cell_type": "code",
   "execution_count": 16,
   "metadata": {},
   "outputs": [
    {
     "name": "stdout",
     "output_type": "stream",
     "text": [
      "0.7981651376146789\n"
     ]
    }
   ],
   "source": [
    "from sklearn.naive_bayes import MultinomialNB  \n",
    " \n",
    "model_naive = MultinomialNB().fit(X_train, y_train)\n",
    "model_naive.fit(X_train, y_train)\n",
    "# predict probabilities\n",
    "nbacc = model_naive.score(X_test, y_test)\n",
    "print(nbacc )\n",
    " "
   ]
  },
  {
   "cell_type": "code",
   "execution_count": 20,
   "metadata": {},
   "outputs": [
    {
     "name": "stdout",
     "output_type": "stream",
     "text": [
      "Accuracy: 0.8623853211009175\n"
     ]
    }
   ],
   "source": [
    "from sklearn.ensemble import RandomForestClassifier\n",
    "clf = RandomForestClassifier()\n",
    "\n",
    "# Training the classifier\n",
    "clf.fit(X_train, y_train)\n",
    "B_pred = clf.predict(X_test)\n",
    "racc=clf.score(X_test, y_test)\n",
    "print(\"Accuracy:\", racc)"
   ]
  },
  {
   "cell_type": "code",
   "execution_count": 21,
   "metadata": {},
   "outputs": [
    {
     "name": "stdout",
     "output_type": "stream",
     "text": [
      "Accuracy: 0.8165137614678899\n"
     ]
    }
   ],
   "source": [
    "from sklearn.neighbors import KNeighborsClassifier\n",
    "  \n",
    "knn = KNeighborsClassifier(n_neighbors=3)\n",
    "\n",
    "# Train the classifier on the training set\n",
    "knn.fit(X_train, y_train)\n",
    "\n",
    "# Predicting the labels for the test set\n",
    "y_pred = knn.predict(X_test)\n",
    "\n",
    "# Calculating the accuracy of the model\n",
    "accuracy = accuracy_score(y_test, y_pred)\n",
    "print(\"Accuracy:\", accuracy)"
   ]
  },
  {
   "cell_type": "code",
   "execution_count": 22,
   "metadata": {},
   "outputs": [
    {
     "name": "stdout",
     "output_type": "stream",
     "text": [
      "Accuracy: 0.7889908256880734\n"
     ]
    }
   ],
   "source": [
    "from sklearn.tree import DecisionTreeClassifier\n",
    "dt_classifier = DecisionTreeClassifier(random_state=42)\n",
    "\n",
    "# Train the classifier on the training set\n",
    "dt_classifier.fit(X_train, y_train)\n",
    "\n",
    "# Predicting the labels for the test set\n",
    "y_pred = dt_classifier.predict(X_test)\n",
    "\n",
    "# Calculating the accuracy of the model\n",
    "accuracy = accuracy_score(y_test, y_pred)\n",
    "print(\"Accuracy:\", accuracy)"
   ]
  },
  {
   "cell_type": "code",
   "execution_count": null,
   "metadata": {},
   "outputs": [],
   "source": []
  },
  {
   "cell_type": "code",
   "execution_count": null,
   "metadata": {},
   "outputs": [],
   "source": []
  },
  {
   "cell_type": "code",
   "execution_count": null,
   "metadata": {},
   "outputs": [],
   "source": []
  }
 ],
 "metadata": {
  "kernelspec": {
   "display_name": "Python 3",
   "language": "python",
   "name": "python3"
  },
  "language_info": {
   "codemirror_mode": {
    "name": "ipython",
    "version": 3
   },
   "file_extension": ".py",
   "mimetype": "text/x-python",
   "name": "python",
   "nbconvert_exporter": "python",
   "pygments_lexer": "ipython3",
   "version": "3.7.9"
  }
 },
 "nbformat": 4,
 "nbformat_minor": 2
}
