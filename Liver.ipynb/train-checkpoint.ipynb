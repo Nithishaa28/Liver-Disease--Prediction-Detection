{
 "cells": [
  {
   "cell_type": "code",
   "execution_count": 1,
   "metadata": {},
   "outputs": [],
   "source": [
    "import tensorflow as tf\n",
    "from tensorflow.keras.layers import Conv2D, MaxPooling2D, Flatten, Dense\n",
    "from tensorflow.keras.models import Sequential\n",
    "from tensorflow.keras.preprocessing.image import ImageDataGenerator\n",
    "from sklearn.metrics import confusion_matrix\n",
    "import numpy as np\n",
    "import matplotlib.pyplot as plt"
   ]
  },
  {
   "cell_type": "code",
   "execution_count": 2,
   "metadata": {},
   "outputs": [],
   "source": [
    "# Set the directories for the training and validation datasets\n",
    "train_dir = 'dataset/Train'\n",
    "val_dir = 'dataset/Test'"
   ]
  },
  {
   "cell_type": "code",
   "execution_count": 3,
   "metadata": {},
   "outputs": [],
   "source": [
    "# Set the parameters for the image preprocessing\n",
    "img_width, img_height = 224, 224\n",
    "batch_size = 32"
   ]
  },
  {
   "cell_type": "code",
   "execution_count": 4,
   "metadata": {},
   "outputs": [],
   "source": [
    "# Create data generators to preprocess the images\n",
    "train_datagen = ImageDataGenerator(rescale=1./255,\n",
    "                                   shear_range=0.2,\n",
    "                                   zoom_range=0.2,\n",
    "                                   horizontal_flip=True)\n",
    "val_datagen = ImageDataGenerator(rescale=1./255)"
   ]
  },
  {
   "cell_type": "code",
   "execution_count": 5,
   "metadata": {},
   "outputs": [
    {
     "name": "stdout",
     "output_type": "stream",
     "text": [
      "Found 20 images belonging to 2 classes.\n"
     ]
    }
   ],
   "source": [
    "train_generator = train_datagen.flow_from_directory(train_dir,\n",
    "                                                    target_size=(img_width, img_height),\n",
    "                                                    batch_size=batch_size,\n",
    "                                                    class_mode='categorical')"
   ]
  },
  {
   "cell_type": "code",
   "execution_count": 6,
   "metadata": {},
   "outputs": [
    {
     "name": "stdout",
     "output_type": "stream",
     "text": [
      "Found 20 images belonging to 2 classes.\n"
     ]
    }
   ],
   "source": [
    "val_generator = val_datagen.flow_from_directory(val_dir,\n",
    "                                                target_size=(img_width, img_height),\n",
    "                                                batch_size=batch_size,\n",
    "                                                class_mode='categorical')"
   ]
  },
  {
   "cell_type": "code",
   "execution_count": 7,
   "metadata": {},
   "outputs": [],
   "source": [
    "# Define the CNN architecture\n",
    "model = Sequential([\n",
    "    Conv2D(32, (3, 3), activation='relu', input_shape=(img_width, img_height, 3)),\n",
    "    MaxPooling2D((2, 2)),\n",
    "    Conv2D(64, (3, 3), activation='relu'),\n",
    "    MaxPooling2D((2, 2)),\n",
    "    Conv2D(128, (3, 3), activation='relu'),\n",
    "    MaxPooling2D((2, 2)),\n",
    "    Flatten(),\n",
    "    Dense(128, activation='relu'),\n",
    "    Dense(2, activation='softmax')\n",
    "])"
   ]
  },
  {
   "cell_type": "code",
   "execution_count": 8,
   "metadata": {},
   "outputs": [
    {
     "name": "stdout",
     "output_type": "stream",
     "text": [
      "Model: \"sequential\"\n",
      "_________________________________________________________________\n",
      "Layer (type)                 Output Shape              Param #   \n",
      "=================================================================\n",
      "conv2d (Conv2D)              (None, 222, 222, 32)      896       \n",
      "_________________________________________________________________\n",
      "max_pooling2d (MaxPooling2D) (None, 111, 111, 32)      0         \n",
      "_________________________________________________________________\n",
      "conv2d_1 (Conv2D)            (None, 109, 109, 64)      18496     \n",
      "_________________________________________________________________\n",
      "max_pooling2d_1 (MaxPooling2 (None, 54, 54, 64)        0         \n",
      "_________________________________________________________________\n",
      "conv2d_2 (Conv2D)            (None, 52, 52, 128)       73856     \n",
      "_________________________________________________________________\n",
      "max_pooling2d_2 (MaxPooling2 (None, 26, 26, 128)       0         \n",
      "_________________________________________________________________\n",
      "flatten (Flatten)            (None, 86528)             0         \n",
      "_________________________________________________________________\n",
      "dense (Dense)                (None, 128)               11075712  \n",
      "_________________________________________________________________\n",
      "dense_1 (Dense)              (None, 2)                 258       \n",
      "=================================================================\n",
      "Total params: 11,169,218\n",
      "Trainable params: 11,169,218\n",
      "Non-trainable params: 0\n",
      "_________________________________________________________________\n"
     ]
    }
   ],
   "source": [
    "model.summary()"
   ]
  },
  {
   "cell_type": "code",
   "execution_count": 9,
   "metadata": {},
   "outputs": [],
   "source": [
    "# Compile the model\n",
    "model.compile(optimizer='adam',\n",
    "              loss='categorical_crossentropy',\n",
    "              metrics=['accuracy'])"
   ]
  },
  {
   "cell_type": "code",
   "execution_count": 10,
   "metadata": {},
   "outputs": [
    {
     "name": "stdout",
     "output_type": "stream",
     "text": [
      "Epoch 1/100\n",
      "1/1 [==============================] - 2s 2s/step - loss: 0.6908 - accuracy: 0.5000 - val_loss: 1.0684 - val_accuracy: 0.5000\n",
      "Epoch 2/100\n",
      "1/1 [==============================] - 1s 926ms/step - loss: 0.9822 - accuracy: 0.5000 - val_loss: 2.4901 - val_accuracy: 0.5000\n",
      "Epoch 3/100\n",
      "1/1 [==============================] - 1s 945ms/step - loss: 2.4369 - accuracy: 0.5000 - val_loss: 1.0408 - val_accuracy: 0.5000\n",
      "Epoch 4/100\n",
      "1/1 [==============================] - 1s 960ms/step - loss: 0.9921 - accuracy: 0.5000 - val_loss: 0.6630 - val_accuracy: 0.5500\n",
      "Epoch 5/100\n",
      "1/1 [==============================] - 1s 933ms/step - loss: 0.6799 - accuracy: 0.6000 - val_loss: 0.6886 - val_accuracy: 0.5000\n",
      "Epoch 6/100\n",
      "1/1 [==============================] - 1s 939ms/step - loss: 0.7036 - accuracy: 0.5000 - val_loss: 0.6834 - val_accuracy: 0.5000\n",
      "Epoch 7/100\n",
      "1/1 [==============================] - 1s 930ms/step - loss: 0.6819 - accuracy: 0.5000 - val_loss: 0.6722 - val_accuracy: 0.5000\n",
      "Epoch 8/100\n",
      "1/1 [==============================] - 1s 929ms/step - loss: 0.6817 - accuracy: 0.5000 - val_loss: 0.6594 - val_accuracy: 0.5500\n",
      "Epoch 9/100\n",
      "1/1 [==============================] - 1s 929ms/step - loss: 0.6731 - accuracy: 0.5500 - val_loss: 0.6456 - val_accuracy: 0.7500\n",
      "Epoch 10/100\n",
      "1/1 [==============================] - 1s 958ms/step - loss: 0.6533 - accuracy: 0.8500 - val_loss: 0.6276 - val_accuracy: 0.8000\n",
      "Epoch 11/100\n",
      "1/1 [==============================] - 1s 926ms/step - loss: 0.6597 - accuracy: 0.6000 - val_loss: 0.6067 - val_accuracy: 0.8000\n",
      "Epoch 12/100\n",
      "1/1 [==============================] - 1s 925ms/step - loss: 0.6173 - accuracy: 0.7000 - val_loss: 0.5807 - val_accuracy: 0.8000\n",
      "Epoch 13/100\n",
      "1/1 [==============================] - 1s 915ms/step - loss: 0.5896 - accuracy: 0.9000 - val_loss: 0.5443 - val_accuracy: 0.8000\n",
      "Epoch 14/100\n",
      "1/1 [==============================] - 1s 963ms/step - loss: 0.5467 - accuracy: 0.7000 - val_loss: 0.5411 - val_accuracy: 0.7500\n",
      "Epoch 15/100\n",
      "1/1 [==============================] - 1s 935ms/step - loss: 0.5135 - accuracy: 0.7500 - val_loss: 0.4736 - val_accuracy: 0.7500\n",
      "Epoch 16/100\n",
      "1/1 [==============================] - 1s 962ms/step - loss: 0.5133 - accuracy: 0.8000 - val_loss: 0.4352 - val_accuracy: 0.7500\n",
      "Epoch 17/100\n",
      "1/1 [==============================] - 1s 994ms/step - loss: 0.4924 - accuracy: 0.8000 - val_loss: 0.4082 - val_accuracy: 0.8000\n",
      "Epoch 18/100\n",
      "1/1 [==============================] - 1s 941ms/step - loss: 0.4098 - accuracy: 0.9000 - val_loss: 0.3909 - val_accuracy: 0.8000\n",
      "Epoch 19/100\n",
      "1/1 [==============================] - 1s 933ms/step - loss: 0.4407 - accuracy: 0.8500 - val_loss: 0.4821 - val_accuracy: 0.7500\n",
      "Epoch 20/100\n",
      "1/1 [==============================] - 1s 942ms/step - loss: 0.3784 - accuracy: 0.7500 - val_loss: 0.5448 - val_accuracy: 0.6500\n",
      "Epoch 21/100\n",
      "1/1 [==============================] - 1s 961ms/step - loss: 0.8270 - accuracy: 0.5500 - val_loss: 0.3144 - val_accuracy: 0.8500\n",
      "Epoch 22/100\n",
      "1/1 [==============================] - 1s 938ms/step - loss: 0.3270 - accuracy: 0.8000 - val_loss: 0.4257 - val_accuracy: 0.7500\n",
      "Epoch 23/100\n",
      "1/1 [==============================] - 1s 965ms/step - loss: 0.4841 - accuracy: 0.7500 - val_loss: 0.2520 - val_accuracy: 0.9500\n",
      "Epoch 24/100\n",
      "1/1 [==============================] - 1s 935ms/step - loss: 0.2401 - accuracy: 0.9500 - val_loss: 0.2547 - val_accuracy: 0.9500\n",
      "Epoch 25/100\n",
      "1/1 [==============================] - 1s 935ms/step - loss: 0.3302 - accuracy: 0.7500 - val_loss: 0.2557 - val_accuracy: 0.9000\n",
      "Epoch 26/100\n",
      "1/1 [==============================] - 1s 942ms/step - loss: 0.3476 - accuracy: 0.8500 - val_loss: 0.2149 - val_accuracy: 0.9500\n",
      "Epoch 27/100\n",
      "1/1 [==============================] - 1s 941ms/step - loss: 0.2908 - accuracy: 0.9500 - val_loss: 0.2234 - val_accuracy: 0.9000\n",
      "Epoch 28/100\n",
      "1/1 [==============================] - 1s 937ms/step - loss: 0.2829 - accuracy: 0.9500 - val_loss: 0.2222 - val_accuracy: 0.9000\n",
      "Epoch 29/100\n",
      "1/1 [==============================] - 1s 979ms/step - loss: 0.3606 - accuracy: 0.9000 - val_loss: 0.2084 - val_accuracy: 0.9500\n",
      "Epoch 30/100\n",
      "1/1 [==============================] - 1s 963ms/step - loss: 0.2871 - accuracy: 0.9000 - val_loss: 0.2521 - val_accuracy: 0.9000\n",
      "Epoch 31/100\n",
      "1/1 [==============================] - 1s 946ms/step - loss: 0.2320 - accuracy: 0.9000 - val_loss: 0.2494 - val_accuracy: 0.9000\n",
      "Epoch 32/100\n",
      "1/1 [==============================] - 1s 940ms/step - loss: 0.2008 - accuracy: 0.8500 - val_loss: 0.1707 - val_accuracy: 0.9000\n",
      "Epoch 33/100\n",
      "1/1 [==============================] - 1s 929ms/step - loss: 0.2276 - accuracy: 0.8500 - val_loss: 0.1622 - val_accuracy: 0.9500\n",
      "Epoch 34/100\n",
      "1/1 [==============================] - 1s 914ms/step - loss: 0.2805 - accuracy: 0.9500 - val_loss: 0.1535 - val_accuracy: 0.9500\n",
      "Epoch 35/100\n",
      "1/1 [==============================] - 1s 930ms/step - loss: 0.3085 - accuracy: 0.9000 - val_loss: 0.1519 - val_accuracy: 0.9500\n",
      "Epoch 36/100\n",
      "1/1 [==============================] - 1s 952ms/step - loss: 0.1187 - accuracy: 1.0000 - val_loss: 0.1962 - val_accuracy: 0.9000\n",
      "Epoch 37/100\n",
      "1/1 [==============================] - 1s 966ms/step - loss: 0.1824 - accuracy: 0.9500 - val_loss: 0.1742 - val_accuracy: 0.9500\n",
      "Epoch 38/100\n",
      "1/1 [==============================] - 1s 979ms/step - loss: 0.2915 - accuracy: 0.9000 - val_loss: 0.1568 - val_accuracy: 0.9500\n",
      "Epoch 39/100\n",
      "1/1 [==============================] - 1s 999ms/step - loss: 0.1671 - accuracy: 0.9500 - val_loss: 0.1515 - val_accuracy: 0.9500\n",
      "Epoch 40/100\n",
      "1/1 [==============================] - 1s 964ms/step - loss: 0.0708 - accuracy: 1.0000 - val_loss: 0.1590 - val_accuracy: 0.9500\n",
      "Epoch 41/100\n",
      "1/1 [==============================] - 1s 969ms/step - loss: 0.1971 - accuracy: 0.8500 - val_loss: 0.1744 - val_accuracy: 0.9500\n",
      "Epoch 42/100\n",
      "1/1 [==============================] - 1s 953ms/step - loss: 0.2369 - accuracy: 0.9000 - val_loss: 0.1793 - val_accuracy: 0.9500\n",
      "Epoch 43/100\n",
      "1/1 [==============================] - 1s 979ms/step - loss: 0.2121 - accuracy: 0.9000 - val_loss: 0.1396 - val_accuracy: 0.9500\n",
      "Epoch 44/100\n",
      "1/1 [==============================] - 1s 997ms/step - loss: 0.0663 - accuracy: 1.0000 - val_loss: 0.1190 - val_accuracy: 0.9500\n",
      "Epoch 45/100\n",
      "1/1 [==============================] - 1s 1s/step - loss: 0.0689 - accuracy: 1.0000 - val_loss: 0.1130 - val_accuracy: 0.9500\n",
      "Epoch 46/100\n",
      "1/1 [==============================] - 1s 993ms/step - loss: 0.1169 - accuracy: 0.9500 - val_loss: 0.1285 - val_accuracy: 0.9500\n",
      "Epoch 47/100\n",
      "1/1 [==============================] - 1s 1s/step - loss: 0.1336 - accuracy: 0.9500 - val_loss: 0.2581 - val_accuracy: 0.9500\n",
      "Epoch 48/100\n",
      "1/1 [==============================] - 1s 1s/step - loss: 0.1525 - accuracy: 0.9500 - val_loss: 0.2713 - val_accuracy: 0.9500\n",
      "Epoch 49/100\n",
      "1/1 [==============================] - 1s 1s/step - loss: 0.0387 - accuracy: 1.0000 - val_loss: 0.2515 - val_accuracy: 0.9500\n",
      "Epoch 50/100\n",
      "1/1 [==============================] - 1s 1s/step - loss: 0.1610 - accuracy: 0.9500 - val_loss: 0.3812 - val_accuracy: 0.9000\n",
      "Epoch 51/100\n",
      "1/1 [==============================] - 1s 1s/step - loss: 0.4632 - accuracy: 0.9000 - val_loss: 0.1968 - val_accuracy: 0.9500\n",
      "Epoch 52/100\n",
      "1/1 [==============================] - 1s 1s/step - loss: 0.0498 - accuracy: 1.0000 - val_loss: 0.1149 - val_accuracy: 0.9500\n",
      "Epoch 53/100\n",
      "1/1 [==============================] - 1s 1s/step - loss: 0.2643 - accuracy: 0.9000 - val_loss: 0.1445 - val_accuracy: 0.9500\n",
      "Epoch 54/100\n",
      "1/1 [==============================] - 1s 1s/step - loss: 0.1027 - accuracy: 0.9500 - val_loss: 0.2799 - val_accuracy: 0.9500\n",
      "Epoch 55/100\n",
      "1/1 [==============================] - 1s 1s/step - loss: 0.2681 - accuracy: 0.9500 - val_loss: 0.3276 - val_accuracy: 0.9500\n",
      "Epoch 56/100\n",
      "1/1 [==============================] - 1s 1s/step - loss: 0.2071 - accuracy: 0.8500 - val_loss: 0.2320 - val_accuracy: 0.9500\n",
      "Epoch 57/100\n",
      "1/1 [==============================] - 1s 1s/step - loss: 0.2088 - accuracy: 0.9500 - val_loss: 0.1119 - val_accuracy: 0.9500\n",
      "Epoch 58/100\n",
      "1/1 [==============================] - 1s 1s/step - loss: 0.1188 - accuracy: 0.9500 - val_loss: 0.0818 - val_accuracy: 0.9500\n",
      "Epoch 59/100\n"
     ]
    },
    {
     "name": "stdout",
     "output_type": "stream",
     "text": [
      "1/1 [==============================] - 1s 1s/step - loss: 0.1228 - accuracy: 0.9500 - val_loss: 0.1011 - val_accuracy: 0.9500\n",
      "Epoch 60/100\n",
      "1/1 [==============================] - 1s 1s/step - loss: 0.1709 - accuracy: 0.9500 - val_loss: 0.0916 - val_accuracy: 0.9500\n",
      "Epoch 61/100\n",
      "1/1 [==============================] - 1s 1s/step - loss: 0.1940 - accuracy: 0.9500 - val_loss: 0.0992 - val_accuracy: 0.9500\n",
      "Epoch 62/100\n",
      "1/1 [==============================] - 1s 1s/step - loss: 0.1880 - accuracy: 0.9500 - val_loss: 0.1763 - val_accuracy: 0.9500\n",
      "Epoch 63/100\n",
      "1/1 [==============================] - 1s 1s/step - loss: 0.1368 - accuracy: 0.9000 - val_loss: 0.2656 - val_accuracy: 0.9500\n",
      "Epoch 64/100\n",
      "1/1 [==============================] - 1s 1s/step - loss: 0.2399 - accuracy: 0.9500 - val_loss: 0.3027 - val_accuracy: 0.9500\n",
      "Epoch 65/100\n",
      "1/1 [==============================] - 1s 1s/step - loss: 0.1960 - accuracy: 0.9000 - val_loss: 0.3017 - val_accuracy: 0.9500\n",
      "Epoch 66/100\n",
      "1/1 [==============================] - 1s 1s/step - loss: 0.2119 - accuracy: 0.9500 - val_loss: 0.2554 - val_accuracy: 0.9500\n",
      "Epoch 67/100\n",
      "1/1 [==============================] - 1s 1s/step - loss: 0.2355 - accuracy: 0.9500 - val_loss: 0.1804 - val_accuracy: 0.9500\n",
      "Epoch 68/100\n",
      "1/1 [==============================] - 1s 1s/step - loss: 0.1219 - accuracy: 0.9500 - val_loss: 0.1747 - val_accuracy: 0.9000\n",
      "Epoch 69/100\n",
      "1/1 [==============================] - 1s 1s/step - loss: 0.2573 - accuracy: 0.9500 - val_loss: 0.1490 - val_accuracy: 0.9500\n",
      "Epoch 70/100\n",
      "1/1 [==============================] - 1s 1s/step - loss: 0.1536 - accuracy: 0.9500 - val_loss: 0.1230 - val_accuracy: 0.9500\n",
      "Epoch 71/100\n",
      "1/1 [==============================] - 1s 1s/step - loss: 0.0618 - accuracy: 0.9500 - val_loss: 0.1594 - val_accuracy: 0.9500\n",
      "Epoch 72/100\n",
      "1/1 [==============================] - 1s 1s/step - loss: 0.0312 - accuracy: 1.0000 - val_loss: 0.2029 - val_accuracy: 0.9500\n",
      "Epoch 73/100\n",
      "1/1 [==============================] - 1s 1s/step - loss: 0.2748 - accuracy: 0.9000 - val_loss: 0.2298 - val_accuracy: 0.9500\n",
      "Epoch 74/100\n",
      "1/1 [==============================] - 1s 1s/step - loss: 0.1514 - accuracy: 0.9500 - val_loss: 0.2105 - val_accuracy: 0.9500\n",
      "Epoch 75/100\n",
      "1/1 [==============================] - 1s 1s/step - loss: 0.2325 - accuracy: 0.9000 - val_loss: 0.1489 - val_accuracy: 0.9500\n",
      "Epoch 76/100\n",
      "1/1 [==============================] - 1s 1s/step - loss: 0.1237 - accuracy: 0.9500 - val_loss: 0.0959 - val_accuracy: 0.9500\n",
      "Epoch 77/100\n",
      "1/1 [==============================] - 1s 1s/step - loss: 0.1289 - accuracy: 0.9000 - val_loss: 0.0884 - val_accuracy: 0.9500\n",
      "Epoch 78/100\n",
      "1/1 [==============================] - 1s 1s/step - loss: 0.1125 - accuracy: 0.9500 - val_loss: 0.1085 - val_accuracy: 0.9500\n",
      "Epoch 79/100\n",
      "1/1 [==============================] - 1s 1s/step - loss: 0.3028 - accuracy: 0.9500 - val_loss: 0.1121 - val_accuracy: 0.9500\n",
      "Epoch 80/100\n",
      "1/1 [==============================] - 1s 1s/step - loss: 0.1415 - accuracy: 0.9500 - val_loss: 0.0901 - val_accuracy: 0.9500\n",
      "Epoch 81/100\n",
      "1/1 [==============================] - 1s 1s/step - loss: 0.1692 - accuracy: 0.9500 - val_loss: 0.0887 - val_accuracy: 0.9500\n",
      "Epoch 82/100\n",
      "1/1 [==============================] - 1s 1s/step - loss: 0.1145 - accuracy: 0.9500 - val_loss: 0.1194 - val_accuracy: 0.9500\n",
      "Epoch 83/100\n",
      "1/1 [==============================] - 1s 1s/step - loss: 0.1133 - accuracy: 0.9500 - val_loss: 0.1544 - val_accuracy: 0.9500\n",
      "Epoch 84/100\n",
      "1/1 [==============================] - 1s 1s/step - loss: 0.1820 - accuracy: 0.9000 - val_loss: 0.1725 - val_accuracy: 0.9500\n",
      "Epoch 85/100\n",
      "1/1 [==============================] - 1s 1s/step - loss: 0.0691 - accuracy: 1.0000 - val_loss: 0.1893 - val_accuracy: 0.9500\n",
      "Epoch 86/100\n",
      "1/1 [==============================] - 1s 1s/step - loss: 0.1372 - accuracy: 0.9500 - val_loss: 0.1842 - val_accuracy: 0.9500\n",
      "Epoch 87/100\n",
      "1/1 [==============================] - 1s 1s/step - loss: 0.2099 - accuracy: 0.9500 - val_loss: 0.1507 - val_accuracy: 0.9500\n",
      "Epoch 88/100\n",
      "1/1 [==============================] - 1s 1s/step - loss: 0.1165 - accuracy: 0.9500 - val_loss: 0.1089 - val_accuracy: 0.9500\n",
      "Epoch 89/100\n",
      "1/1 [==============================] - 1s 1s/step - loss: 0.0864 - accuracy: 0.9500 - val_loss: 0.0883 - val_accuracy: 0.9500\n",
      "Epoch 90/100\n",
      "1/1 [==============================] - 1s 1s/step - loss: 0.0884 - accuracy: 0.9500 - val_loss: 0.0883 - val_accuracy: 0.9500\n",
      "Epoch 91/100\n",
      "1/1 [==============================] - 1s 1s/step - loss: 0.2425 - accuracy: 0.9000 - val_loss: 0.0860 - val_accuracy: 0.9500\n",
      "Epoch 92/100\n",
      "1/1 [==============================] - 1s 1s/step - loss: 0.1257 - accuracy: 0.9500 - val_loss: 0.0922 - val_accuracy: 0.9500\n",
      "Epoch 93/100\n",
      "1/1 [==============================] - 1s 1s/step - loss: 0.1644 - accuracy: 0.9500 - val_loss: 0.1232 - val_accuracy: 0.9500\n",
      "Epoch 94/100\n",
      "1/1 [==============================] - 1s 1s/step - loss: 0.1776 - accuracy: 0.9500 - val_loss: 0.1696 - val_accuracy: 0.9500\n",
      "Epoch 95/100\n",
      "1/1 [==============================] - 1s 1s/step - loss: 0.1987 - accuracy: 0.9500 - val_loss: 0.2311 - val_accuracy: 0.9500\n",
      "Epoch 96/100\n",
      "1/1 [==============================] - 1s 1s/step - loss: 0.2457 - accuracy: 0.9000 - val_loss: 0.2525 - val_accuracy: 0.9500\n",
      "Epoch 97/100\n",
      "1/1 [==============================] - 1s 1s/step - loss: 0.1715 - accuracy: 0.9500 - val_loss: 0.2354 - val_accuracy: 0.9500\n",
      "Epoch 98/100\n",
      "1/1 [==============================] - 1s 1s/step - loss: 0.0658 - accuracy: 1.0000 - val_loss: 0.2026 - val_accuracy: 0.9500\n",
      "Epoch 99/100\n",
      "1/1 [==============================] - 1s 1s/step - loss: 0.0662 - accuracy: 0.9500 - val_loss: 0.1708 - val_accuracy: 0.9500\n",
      "Epoch 100/100\n",
      "1/1 [==============================] - 1s 1s/step - loss: 0.0852 - accuracy: 0.9500 - val_loss: 0.1350 - val_accuracy: 0.9500\n"
     ]
    }
   ],
   "source": [
    "# Train the model\n",
    "epochs = 100\n",
    "history = model.fit(train_generator,\n",
    "                    epochs=epochs,\n",
    "                    validation_data=val_generator)"
   ]
  },
  {
   "cell_type": "code",
   "execution_count": 13,
   "metadata": {},
   "outputs": [],
   "source": [
    "# Save the trained model\n",
    "model.save('tumour.h5')"
   ]
  },
  {
   "cell_type": "code",
   "execution_count": 15,
   "metadata": {},
   "outputs": [],
   "source": [
    "# Plot the accuracy and loss curves\n",
    "acc = history.history['accuracy']\n",
    "val_acc = history.history['val_accuracy']\n",
    "loss = history.history['loss']\n",
    "val_loss = history.history['val_loss']"
   ]
  },
  {
   "cell_type": "code",
   "execution_count": 16,
   "metadata": {},
   "outputs": [],
   "source": [
    "epochs_range = range(epochs)"
   ]
  },
  {
   "cell_type": "code",
   "execution_count": 17,
   "metadata": {},
   "outputs": [
    {
     "data": {
      "text/plain": [
       "Text(0.5, 1.0, 'Training and Validation Accuracy')"
      ]
     },
     "execution_count": 17,
     "metadata": {},
     "output_type": "execute_result"
    },
    {
     "data": {
      "image/png": "[encoded data removed]",
      "text/plain": [
       "<Figure size 576x576 with 1 Axes>"
      ]
     },
     "metadata": {
      "needs_background": "light"
     },
     "output_type": "display_data"
    }
   ],
   "source": [
    "plt.figure(figsize=(8, 8))\n",
    "plt.subplot(2, 1, 1)\n",
    "plt.plot(epochs_range, acc, label='Training Accuracy')\n",
    "plt.plot(epochs_range, val_acc, label='Validation Accuracy')\n",
    "plt.legend(loc='lower right')\n",
    "plt.title('Training and Validation Accuracy')"
   ]
  },
  {
   "cell_type": "code",
   "execution_count": 18,
   "metadata": {},
   "outputs": [
    {
     "data": {
      "image/png": "[encoded data removed]",
      "text/plain": [
       "<Figure size 432x288 with 1 Axes>"
      ]
     },
     "metadata": {
      "needs_background": "light"
     },
     "output_type": "display_data"
    }
   ],
   "source": [
    "plt.subplot(2, 1, 2)\n",
    "plt.plot(epochs_range, loss, label='Training Loss')\n",
    "plt.plot(epochs_range, val_loss, label='Validation Loss')\n",
    "plt.legend(loc='upper right')\n",
    "plt.title('Training and Validation Loss')\n",
    "plt.show()"
   ]
  },
  {
   "cell_type": "code",
   "execution_count": 19,
   "metadata": {},
   "outputs": [
    {
     "data": {
      "image/png": "[encoded data removed]",
      "text/plain": [
       "<Figure size 432x288 with 2 Axes>"
      ]
     },
     "metadata": {
      "needs_background": "light"
     },
     "output_type": "display_data"
    }
   ],
   "source": [
    "import numpy as np\n",
    "from sklearn.metrics import confusion_matrix\n",
    "from sklearn.utils.multiclass import unique_labels\n",
    "import matplotlib.pyplot as plt\n",
    "\n",
    "# Generate predictions and compute the confusion matrix\n",
    "Y_pred = model.predict(val_generator)\n",
    "y_pred = np.argmax(Y_pred, axis=1)\n",
    "cm = confusion_matrix(val_generator.classes, y_pred)\n",
    "\n",
    "# Define class labels\n",
    "class_names = ['no tumor', 'tumor']\n",
    "\n",
    "# Plot the confusion matrix\n",
    "fig, ax = plt.subplots()\n",
    "im = ax.imshow(cm, interpolation='nearest', cmap=plt.cm.Blues)\n",
    "ax.figure.colorbar(im, ax=ax)\n",
    "# Set the x-axis and y-axis labels\n",
    "ax.set(xticks=np.arange(cm.shape[1]),\n",
    "       yticks=np.arange(cm.shape[0]),\n",
    "       xticklabels=class_names, yticklabels=class_names,\n",
    "       xlabel='Predicted label', ylabel='True label')\n",
    "# Rotate the x-axis labels to vertical orientation\n",
    "plt.setp(ax.get_xticklabels(), rotation=90, ha=\"right\",\n",
    "         rotation_mode=\"anchor\")\n",
    "# Loop over the data and annotate each cell with its value\n",
    "for i in range(cm.shape[0]):\n",
    "    for j in range(cm.shape[1]):\n",
    "        ax.text(j, i, format(cm[i, j], 'd'),\n",
    "                ha=\"center\", va=\"center\",\n",
    "                color=\"white\" if cm[i, j] > cm.max() / 2. else \"black\")\n",
    "# Add a title to the plot\n",
    "ax.set_title(\"Confusion matrix\")\n",
    "fig.tight_layout()\n",
    "plt.show()\n"
   ]
  },
  {
   "cell_type": "code",
   "execution_count": 20,
   "metadata": {},
   "outputs": [
    {
     "name": "stdout",
     "output_type": "stream",
     "text": [
      "              precision    recall  f1-score   support\n",
      "\n",
      "    no tumor       0.45      0.50      0.48        10\n",
      "       tumor       0.44      0.40      0.42        10\n",
      "\n",
      "    accuracy                           0.45        20\n",
      "   macro avg       0.45      0.45      0.45        20\n",
      "weighted avg       0.45      0.45      0.45        20\n",
      "\n"
     ]
    }
   ],
   "source": [
    "from sklearn.metrics import classification_report\n",
    "\n",
    "# Generate predictions\n",
    "Y_pred = model.predict(val_generator)\n",
    "y_pred = np.argmax(Y_pred, axis=1)\n",
    "\n",
    "# Get the class labels\n",
    "class_labels = list(val_generator.class_indices.keys())\n",
    "\n",
    "# Generate the classification report\n",
    "report = classification_report(val_generator.classes, y_pred, target_names=class_labels)\n",
    "print(report)\n"
   ]
  },
  {
   "cell_type": "code",
   "execution_count": 21,
   "metadata": {},
   "outputs": [
    {
     "data": {
      "image/png": "[encoded data removed]",
      "text/plain": [
       "<Figure size 432x288 with 1 Axes>"
      ]
     },
     "metadata": {
      "needs_background": "light"
     },
     "output_type": "display_data"
    }
   ],
   "source": [
    "# Get the class labels\n",
    "class_labels = list(val_generator.class_indices.keys())\n",
    "\n",
    "# Get the class-wise accuracy values\n",
    "class_wise_accuracy = cm.diagonal() / cm.sum(axis=1)\n",
    "\n",
    "# Create a bar chart\n",
    "plt.bar(class_labels, class_wise_accuracy)\n",
    "plt.title('Accuracy by Class')\n",
    "plt.xlabel('Class')\n",
    "plt.ylabel('Accuracy')\n",
    "plt.show()\n"
   ]
  },
  {
   "cell_type": "code",
   "execution_count": 22,
   "metadata": {},
   "outputs": [
    {
     "name": "stdout",
     "output_type": "stream",
     "text": [
      "1/1 [==============================] - 0s 179ms/step - loss: 0.1350 - accuracy: 0.9500\n",
      "Validation Accuracy: 95.00\n"
     ]
    }
   ],
   "source": [
    "# Evaluate the model on the validation data\n",
    "_, accuracy = model.evaluate(val_generator)\n",
    "\n",
    "# Print the validation accuracy\n",
    "print('Validation Accuracy: %.2f' % (accuracy*100))\n"
   ]
  },
  {
   "cell_type": "code",
   "execution_count": 23,
   "metadata": {},
   "outputs": [
    {
     "ename": "KeyError",
     "evalue": "'acc'",
     "output_type": "error",
     "traceback": [
      "\u001b[1;31m---------------------------------------------------------------------------\u001b[0m",
      "\u001b[1;31mKeyError\u001b[0m                                  Traceback (most recent call last)",
      "\u001b[1;32m<ipython-input-23-808f38736afe>\u001b[0m in \u001b[0;36m<module>\u001b[1;34m\u001b[0m\n\u001b[0;32m      1\u001b[0m \u001b[1;31m# Get the accuracy from the history object\u001b[0m\u001b[1;33m\u001b[0m\u001b[1;33m\u001b[0m\u001b[1;33m\u001b[0m\u001b[0m\n\u001b[1;32m----> 2\u001b[1;33m \u001b[0maccuracy\u001b[0m \u001b[1;33m=\u001b[0m \u001b[0mhistory\u001b[0m\u001b[1;33m.\u001b[0m\u001b[0mhistory\u001b[0m\u001b[1;33m[\u001b[0m\u001b[1;34m'acc'\u001b[0m\u001b[1;33m]\u001b[0m\u001b[1;33m[\u001b[0m\u001b[1;33m-\u001b[0m\u001b[1;36m1\u001b[0m\u001b[1;33m]\u001b[0m\u001b[1;33m\u001b[0m\u001b[1;33m\u001b[0m\u001b[0m\n\u001b[0m\u001b[0;32m      3\u001b[0m \u001b[1;33m\u001b[0m\u001b[0m\n\u001b[0;32m      4\u001b[0m \u001b[1;31m# Print the accuracy to the console\u001b[0m\u001b[1;33m\u001b[0m\u001b[1;33m\u001b[0m\u001b[1;33m\u001b[0m\u001b[0m\n\u001b[0;32m      5\u001b[0m \u001b[0mprint\u001b[0m\u001b[1;33m(\u001b[0m\u001b[1;34m\"Accuracy: {:.2f}%\"\u001b[0m\u001b[1;33m.\u001b[0m\u001b[0mformat\u001b[0m\u001b[1;33m(\u001b[0m\u001b[0maccuracy\u001b[0m \u001b[1;33m*\u001b[0m \u001b[1;36m100\u001b[0m\u001b[1;33m)\u001b[0m\u001b[1;33m)\u001b[0m\u001b[1;33m\u001b[0m\u001b[1;33m\u001b[0m\u001b[0m\n",
      "\u001b[1;31mKeyError\u001b[0m: 'acc'"
     ]
    }
   ],
   "source": [
    "# Get the accuracy from the history object\n",
    "accuracy = history.history['accuracy'][-1]\n",
    "\n",
    "# Print the accuracy to the console\n",
    "print(\"Accuracy: {:.2f}%\".format(accuracy * 100))"
   ]
  },
  {
   "cell_type": "code",
   "execution_count": null,
   "metadata": {},
   "outputs": [],
   "source": []
  }
 ],
 "metadata": {
  "kernelspec": {
   "display_name": "Python 3",
   "language": "python",
   "name": "python3"
  },
  "language_info": {
   "codemirror_mode": {
    "name": "ipython",
    "version": 3
   },
   "file_extension": ".py",
   "mimetype": "text/x-python",
   "name": "python",
   "nbconvert_exporter": "python",
   "pygments_lexer": "ipython3",
   "version": "3.7.9"
  }
 },
 "nbformat": 4,
 "nbformat_minor": 2
}
